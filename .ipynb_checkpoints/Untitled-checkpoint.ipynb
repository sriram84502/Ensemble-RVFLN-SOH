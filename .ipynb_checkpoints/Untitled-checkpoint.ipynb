{
 "cells": [
  {
   "cell_type": "code",
   "execution_count": 1,
   "id": "bd3b996f",
   "metadata": {},
   "outputs": [
    {
     "name": "stdout",
     "output_type": "stream",
     "text": [
      "WARNING:tensorflow:From C:\\Users\\DELL\\AppData\\Roaming\\Python\\Python311\\site-packages\\keras\\src\\losses.py:2976: The name tf.losses.sparse_softmax_cross_entropy is deprecated. Please use tf.compat.v1.losses.sparse_softmax_cross_entropy instead.\n",
      "\n"
     ]
    }
   ],
   "source": [
    "import pandas as pd\n",
    "import numpy as np\n",
    "import matplotlib.pyplot as plt\n",
    "from sklearn.model_selection import train_test_split\n",
    "import tensorflow as tf\n",
    "from tensorflow.keras.layers import Layer\n",
    "from tensorflow.keras.models import Sequential\n",
    "from tensorflow.keras.layers import Dense\n",
    "from tensorflow.keras.layers import Dropout\n",
    "from sklearn.preprocessing import StandardScaler\n",
    "from tensorflow.keras.optimizers import Adam"
   ]
  },
  {
   "cell_type": "code",
   "execution_count": 20,
   "id": "0dc65507",
   "metadata": {},
   "outputs": [],
   "source": [
    "df0005 = pd.read_csv('./datasets/B0005.csv')\n",
    "df0006 = pd.read_csv('./datasets/B0006.csv')\n",
    "df0007 = pd.read_csv('./datasets/B0007.csv')\n",
    "df0018 = pd.read_csv('./datasets/B0018.csv')\n",
    "df0005e = pd.read_csv('./encrypted_datasets/B0005e.csv')\n",
    "df0006e = pd.read_csv('./encrypted_datasets/B0006e.csv')\n",
    "df0007e = pd.read_csv('./encrypted_datasets/B0007e.csv')\n",
    "df0018e = pd.read_csv('./encrypted_datasets/B0018e.csv')"
   ]
  },
  {
   "cell_type": "code",
   "execution_count": 21,
   "id": "7ab0d549",
   "metadata": {},
   "outputs": [],
   "source": [
    "soh0005 = []\n",
    "soh0006 = []\n",
    "soh0007 = []\n",
    "soh0018 = []"
   ]
  },
  {
   "cell_type": "code",
   "execution_count": 22,
   "id": "c16ad300",
   "metadata": {},
   "outputs": [],
   "source": [
    "scaler = StandardScaler()"
   ]
  },
  {
   "cell_type": "code",
   "execution_count": 23,
   "id": "f4c4d87f",
   "metadata": {},
   "outputs": [],
   "source": [
    "def split_model(a,b):\n",
    "    if len(b)==0:\n",
    "        C = a['capacity'][0]\n",
    "        for i in range(len(a)):\n",
    "          b.append([a['capacity'][i] / C])\n",
    "    b = pd.DataFrame(data=b, columns=['soh'])\n",
    "    attribs=['voltage_measured', 'current_measured','temperature_measured', 'current_load', 'voltage_load', 'time']\n",
    "    train_dataset5 = a[attribs]\n",
    "    train_dataset5 = scaler.fit_transform(train_dataset5)\n",
    "    X_train,X_test,y_train,y_test = train_test_split(train_dataset5,b,test_size=0.3,shuffle=True)\n",
    "    return X_train,X_test,y_train,y_test"
   ]
  },
  {
   "cell_type": "code",
   "execution_count": 24,
   "id": "f5eb70e2",
   "metadata": {},
   "outputs": [],
   "source": [
    "X_train0005,X_test0005,y_train0005,y_test0005 = split_model(df0005,soh0005)\n",
    "X_train0006,X_test0006,y_train0006,y_test0006 = split_model(df0006,soh0006)\n",
    "X_train0007,X_test0007,y_train0007,y_test0007 = split_model(df0007,soh0007)\n",
    "X_train0018,X_test0018,y_train0018,y_test0018 = split_model(df0018,soh0018)\n",
    "X_train0005e,X_test0005e,y_train0005e,y_test0005e = split_model(df0005e,soh0005)\n",
    "X_train0006e,X_test0006e,y_train0006e,y_test0006e = split_model(df0006e,soh0006)\n",
    "X_train0007e,X_test0007e,y_train0007e,y_test0007e = split_model(df0007e,soh0007)\n",
    "X_train0018e,X_test0018e,y_train0018e,y_test0018e = split_model(df0018e,soh0018)"
   ]
  },
  {
   "cell_type": "code",
   "execution_count": 25,
   "id": "c096f10f",
   "metadata": {},
   "outputs": [
    {
     "data": {
      "text/plain": [
       "(35199, 6)"
      ]
     },
     "execution_count": 25,
     "metadata": {},
     "output_type": "execute_result"
    }
   ],
   "source": [
    "X_train0007e.shape"
   ]
  },
  {
   "cell_type": "code",
   "execution_count": 41,
   "id": "57661f7f",
   "metadata": {},
   "outputs": [],
   "source": [
    "def train_model(a,b,c):\n",
    "    model = Sequential([\n",
    "        Dense(64,activation=\"relu\",input_dim=a.shape[1]),\n",
    "        Dense(32,activation=\"relu\"),\n",
    "        Dense(16,activation=\"relu\"),\n",
    "        Dropout(rate=0.25),\n",
    "        Dense(1,activation=\"sigmoid\"),\n",
    "    ])\n",
    "    model.compile(\n",
    "        optimizer=Adam(learning_rate=0.001),  # Adjust learning rate here\n",
    "        loss=\"mae\",\n",
    "        metrics=[\"accuracy\"]\n",
    "    )\n",
    "    tb_callback = tf.keras.callbacks.TensorBoard(log_dir=f\"logs/{c}\",histogram_freq=1)\n",
    "    model.fit(a,b,epochs=20,batch_size=14,callbacks=[tb_callback])\n",
    "    return model"
   ]
  },
  {
   "cell_type": "raw",
   "id": "36195a12",
   "metadata": {
    "scrolled": true
   },
   "source": [
    "model0005_train = train_model(X_train0005,y_train0005,\"B0005_ADAM_train\")\n",
    "model0006_train = train_model(X_train0006,y_train0006,\"B0006_ADAM_train\")\n",
    "model0007_train = train_model(X_train0007,y_train0007,\"B0007_ADAM_train\")\n",
    "model0018_train = train_model(X_train0018,y_train0018,\"B0018_ADAM_train\")"
   ]
  },
  {
   "cell_type": "code",
   "execution_count": 45,
   "id": "fc3c9e09",
   "metadata": {},
   "outputs": [
    {
     "name": "stdout",
     "output_type": "stream",
     "text": [
      "Epoch 1/20\n",
      "472/472 [==============================] - 1s 3ms/step - loss: 0.0116 - accuracy: 0.0049\n",
      "Epoch 2/20\n",
      "472/472 [==============================] - 1s 3ms/step - loss: 0.0116 - accuracy: 0.0049\n",
      "Epoch 3/20\n",
      "472/472 [==============================] - 1s 3ms/step - loss: 0.0115 - accuracy: 0.0049\n",
      "Epoch 4/20\n",
      "472/472 [==============================] - 2s 3ms/step - loss: 0.0117 - accuracy: 0.0049\n",
      "Epoch 5/20\n",
      "472/472 [==============================] - 2s 3ms/step - loss: 0.0117 - accuracy: 0.0049\n",
      "Epoch 6/20\n",
      "472/472 [==============================] - 2s 3ms/step - loss: 0.0116 - accuracy: 0.0049\n",
      "Epoch 7/20\n",
      "472/472 [==============================] - 2s 4ms/step - loss: 0.0117 - accuracy: 0.0049\n",
      "Epoch 8/20\n",
      "472/472 [==============================] - 2s 4ms/step - loss: 0.0116 - accuracy: 0.0049\n",
      "Epoch 9/20\n",
      "472/472 [==============================] - 1s 2ms/step - loss: 0.0117 - accuracy: 0.0049\n",
      "Epoch 10/20\n",
      "472/472 [==============================] - 1s 2ms/step - loss: 0.0117 - accuracy: 0.0049\n",
      "Epoch 11/20\n",
      "472/472 [==============================] - 1s 3ms/step - loss: 0.0117 - accuracy: 0.0049\n",
      "Epoch 12/20\n",
      "472/472 [==============================] - 1s 3ms/step - loss: 0.0117 - accuracy: 0.0049\n",
      "Epoch 13/20\n",
      "472/472 [==============================] - 2s 3ms/step - loss: 0.0117 - accuracy: 0.0049\n",
      "Epoch 14/20\n",
      "472/472 [==============================] - 1s 3ms/step - loss: 0.0116 - accuracy: 0.0049\n",
      "Epoch 15/20\n",
      "472/472 [==============================] - 1s 2ms/step - loss: 0.0117 - accuracy: 0.0049\n",
      "Epoch 16/20\n",
      "472/472 [==============================] - 1s 3ms/step - loss: 0.0117 - accuracy: 0.0049\n",
      "Epoch 17/20\n",
      "472/472 [==============================] - 1s 3ms/step - loss: 0.0115 - accuracy: 0.0049\n",
      "Epoch 18/20\n",
      "472/472 [==============================] - 2s 3ms/step - loss: 0.0114 - accuracy: 0.0049\n",
      "Epoch 19/20\n",
      "472/472 [==============================] - 2s 3ms/step - loss: 0.0117 - accuracy: 0.0049\n",
      "Epoch 20/20\n",
      "472/472 [==============================] - 2s 3ms/step - loss: 0.0116 - accuracy: 0.0049\n",
      "Epoch 1/20\n",
      "472/472 [==============================] - 1s 2ms/step - loss: 0.0159 - accuracy: 0.0034\n",
      "Epoch 2/20\n",
      "472/472 [==============================] - 1s 3ms/step - loss: 0.0160 - accuracy: 0.0034\n",
      "Epoch 3/20\n",
      "472/472 [==============================] - 1s 3ms/step - loss: 0.0160 - accuracy: 0.0034\n",
      "Epoch 4/20\n",
      "472/472 [==============================] - 1s 3ms/step - loss: 0.0159 - accuracy: 0.0034\n",
      "Epoch 5/20\n",
      "472/472 [==============================] - 1s 3ms/step - loss: 0.0158 - accuracy: 0.0034\n",
      "Epoch 6/20\n",
      "472/472 [==============================] - 1s 3ms/step - loss: 0.0160 - accuracy: 0.0034\n",
      "Epoch 7/20\n",
      "472/472 [==============================] - 1s 3ms/step - loss: 0.0157 - accuracy: 0.0034\n",
      "Epoch 8/20\n",
      "472/472 [==============================] - 1s 3ms/step - loss: 0.0159 - accuracy: 0.0034\n",
      "Epoch 9/20\n",
      "472/472 [==============================] - 1s 3ms/step - loss: 0.0160 - accuracy: 0.0034\n",
      "Epoch 10/20\n",
      "472/472 [==============================] - 1s 3ms/step - loss: 0.0159 - accuracy: 0.0034\n",
      "Epoch 11/20\n",
      "472/472 [==============================] - 1s 3ms/step - loss: 0.0160 - accuracy: 0.0034\n",
      "Epoch 12/20\n",
      "472/472 [==============================] - 1s 3ms/step - loss: 0.0159 - accuracy: 0.0034\n",
      "Epoch 13/20\n",
      "472/472 [==============================] - 1s 2ms/step - loss: 0.0159 - accuracy: 0.0034\n",
      "Epoch 14/20\n",
      "472/472 [==============================] - 1s 2ms/step - loss: 0.0159 - accuracy: 0.0034\n",
      "Epoch 15/20\n",
      "472/472 [==============================] - 1s 3ms/step - loss: 0.0159 - accuracy: 0.0034\n",
      "Epoch 16/20\n",
      "472/472 [==============================] - 1s 3ms/step - loss: 0.0158 - accuracy: 0.0034\n",
      "Epoch 17/20\n",
      "472/472 [==============================] - 1s 3ms/step - loss: 0.0158 - accuracy: 0.0034\n",
      "Epoch 18/20\n",
      "472/472 [==============================] - 1s 3ms/step - loss: 0.0159 - accuracy: 0.0034\n",
      "Epoch 19/20\n",
      "472/472 [==============================] - 1s 3ms/step - loss: 0.0159 - accuracy: 0.0034\n",
      "Epoch 20/20\n",
      "472/472 [==============================] - 1s 3ms/step - loss: 0.0159 - accuracy: 0.0034\n",
      "Epoch 1/20\n",
      "441/472 [===========================>..] - ETA: 0s - loss: 0.0103 - accuracy: 0.0033"
     ]
    },
    {
     "ename": "KeyboardInterrupt",
     "evalue": "",
     "output_type": "error",
     "traceback": [
      "\u001b[1;31m---------------------------------------------------------------------------\u001b[0m",
      "\u001b[1;31mKeyboardInterrupt\u001b[0m                         Traceback (most recent call last)",
      "Cell \u001b[1;32mIn[45], line 7\u001b[0m\n\u001b[0;32m      5\u001b[0m model0005_train\u001b[38;5;241m.\u001b[39mfit(X_test0005,y_test0005,epochs\u001b[38;5;241m=\u001b[39m\u001b[38;5;241m20\u001b[39m,callbacks\u001b[38;5;241m=\u001b[39m[tb_callback1])\n\u001b[0;32m      6\u001b[0m model0006_train\u001b[38;5;241m.\u001b[39mfit(X_test0006,y_test0006,epochs\u001b[38;5;241m=\u001b[39m\u001b[38;5;241m20\u001b[39m,callbacks\u001b[38;5;241m=\u001b[39m[tb_callback2])\n\u001b[1;32m----> 7\u001b[0m model0007_train\u001b[38;5;241m.\u001b[39mfit(X_test0007,y_test0007,epochs\u001b[38;5;241m=\u001b[39m\u001b[38;5;241m20\u001b[39m,callbacks\u001b[38;5;241m=\u001b[39m[tb_callback3])\n\u001b[0;32m      8\u001b[0m model0018_train\u001b[38;5;241m.\u001b[39mfit(X_test0018,y_test0018,epochs\u001b[38;5;241m=\u001b[39m\u001b[38;5;241m20\u001b[39m,callbacks\u001b[38;5;241m=\u001b[39m[tb_callback4])\n",
      "File \u001b[1;32m~\\AppData\\Roaming\\Python\\Python311\\site-packages\\keras\\src\\utils\\traceback_utils.py:65\u001b[0m, in \u001b[0;36mfilter_traceback.<locals>.error_handler\u001b[1;34m(*args, **kwargs)\u001b[0m\n\u001b[0;32m     63\u001b[0m filtered_tb \u001b[38;5;241m=\u001b[39m \u001b[38;5;28;01mNone\u001b[39;00m\n\u001b[0;32m     64\u001b[0m \u001b[38;5;28;01mtry\u001b[39;00m:\n\u001b[1;32m---> 65\u001b[0m     \u001b[38;5;28;01mreturn\u001b[39;00m fn(\u001b[38;5;241m*\u001b[39margs, \u001b[38;5;241m*\u001b[39m\u001b[38;5;241m*\u001b[39mkwargs)\n\u001b[0;32m     66\u001b[0m \u001b[38;5;28;01mexcept\u001b[39;00m \u001b[38;5;167;01mException\u001b[39;00m \u001b[38;5;28;01mas\u001b[39;00m e:\n\u001b[0;32m     67\u001b[0m     filtered_tb \u001b[38;5;241m=\u001b[39m _process_traceback_frames(e\u001b[38;5;241m.\u001b[39m__traceback__)\n",
      "File \u001b[1;32m~\\AppData\\Roaming\\Python\\Python311\\site-packages\\keras\\src\\engine\\training.py:1798\u001b[0m, in \u001b[0;36mModel.fit\u001b[1;34m(self, x, y, batch_size, epochs, verbose, callbacks, validation_split, validation_data, shuffle, class_weight, sample_weight, initial_epoch, steps_per_epoch, validation_steps, validation_batch_size, validation_freq, max_queue_size, workers, use_multiprocessing)\u001b[0m\n\u001b[0;32m   1796\u001b[0m callbacks\u001b[38;5;241m.\u001b[39mon_epoch_begin(epoch)\n\u001b[0;32m   1797\u001b[0m \u001b[38;5;28;01mwith\u001b[39;00m data_handler\u001b[38;5;241m.\u001b[39mcatch_stop_iteration():\n\u001b[1;32m-> 1798\u001b[0m     \u001b[38;5;28;01mfor\u001b[39;00m step \u001b[38;5;129;01min\u001b[39;00m data_handler\u001b[38;5;241m.\u001b[39msteps():\n\u001b[0;32m   1799\u001b[0m         \u001b[38;5;28;01mwith\u001b[39;00m tf\u001b[38;5;241m.\u001b[39mprofiler\u001b[38;5;241m.\u001b[39mexperimental\u001b[38;5;241m.\u001b[39mTrace(\n\u001b[0;32m   1800\u001b[0m             \u001b[38;5;124m\"\u001b[39m\u001b[38;5;124mtrain\u001b[39m\u001b[38;5;124m\"\u001b[39m,\n\u001b[0;32m   1801\u001b[0m             epoch_num\u001b[38;5;241m=\u001b[39mepoch,\n\u001b[1;32m   (...)\u001b[0m\n\u001b[0;32m   1804\u001b[0m             _r\u001b[38;5;241m=\u001b[39m\u001b[38;5;241m1\u001b[39m,\n\u001b[0;32m   1805\u001b[0m         ):\n\u001b[0;32m   1806\u001b[0m             callbacks\u001b[38;5;241m.\u001b[39mon_train_batch_begin(step)\n",
      "File \u001b[1;32m~\\AppData\\Roaming\\Python\\Python311\\site-packages\\keras\\src\\engine\\data_adapter.py:1411\u001b[0m, in \u001b[0;36mDataHandler.steps\u001b[1;34m(self)\u001b[0m\n\u001b[0;32m   1409\u001b[0m \u001b[38;5;28;01mif\u001b[39;00m \u001b[38;5;28mself\u001b[39m\u001b[38;5;241m.\u001b[39m_insufficient_data:  \u001b[38;5;66;03m# Set by `catch_stop_iteration`.\u001b[39;00m\n\u001b[0;32m   1410\u001b[0m     \u001b[38;5;28;01mbreak\u001b[39;00m\n\u001b[1;32m-> 1411\u001b[0m original_spe \u001b[38;5;241m=\u001b[39m \u001b[38;5;28mself\u001b[39m\u001b[38;5;241m.\u001b[39m_steps_per_execution\u001b[38;5;241m.\u001b[39mnumpy()\u001b[38;5;241m.\u001b[39mitem()\n\u001b[0;32m   1412\u001b[0m can_run_full_execution \u001b[38;5;241m=\u001b[39m (\n\u001b[0;32m   1413\u001b[0m     original_spe \u001b[38;5;241m==\u001b[39m \u001b[38;5;241m1\u001b[39m\n\u001b[0;32m   1414\u001b[0m     \u001b[38;5;129;01mor\u001b[39;00m \u001b[38;5;28mself\u001b[39m\u001b[38;5;241m.\u001b[39m_inferred_steps \u001b[38;5;129;01mis\u001b[39;00m \u001b[38;5;28;01mNone\u001b[39;00m\n\u001b[0;32m   1415\u001b[0m     \u001b[38;5;129;01mor\u001b[39;00m \u001b[38;5;28mself\u001b[39m\u001b[38;5;241m.\u001b[39m_inferred_steps \u001b[38;5;241m-\u001b[39m \u001b[38;5;28mself\u001b[39m\u001b[38;5;241m.\u001b[39m_current_step \u001b[38;5;241m>\u001b[39m\u001b[38;5;241m=\u001b[39m original_spe\n\u001b[0;32m   1416\u001b[0m )\n\u001b[0;32m   1418\u001b[0m \u001b[38;5;28;01mif\u001b[39;00m can_run_full_execution:\n",
      "File \u001b[1;32m~\\AppData\\Roaming\\Python\\Python311\\site-packages\\tensorflow\\python\\ops\\resource_variable_ops.py:689\u001b[0m, in \u001b[0;36mBaseResourceVariable.numpy\u001b[1;34m(self)\u001b[0m\n\u001b[0;32m    687\u001b[0m \u001b[38;5;28;01mdef\u001b[39;00m \u001b[38;5;21mnumpy\u001b[39m(\u001b[38;5;28mself\u001b[39m):\n\u001b[0;32m    688\u001b[0m   \u001b[38;5;28;01mif\u001b[39;00m context\u001b[38;5;241m.\u001b[39mexecuting_eagerly():\n\u001b[1;32m--> 689\u001b[0m     \u001b[38;5;28;01mreturn\u001b[39;00m \u001b[38;5;28mself\u001b[39m\u001b[38;5;241m.\u001b[39mread_value()\u001b[38;5;241m.\u001b[39mnumpy()\n\u001b[0;32m    690\u001b[0m   \u001b[38;5;28;01mraise\u001b[39;00m \u001b[38;5;167;01mNotImplementedError\u001b[39;00m(\n\u001b[0;32m    691\u001b[0m       \u001b[38;5;124m\"\u001b[39m\u001b[38;5;124mnumpy() is only available when eager execution is enabled.\u001b[39m\u001b[38;5;124m\"\u001b[39m)\n",
      "File \u001b[1;32m~\\AppData\\Roaming\\Python\\Python311\\site-packages\\tensorflow\\python\\ops\\resource_variable_ops.py:839\u001b[0m, in \u001b[0;36mBaseResourceVariable.read_value\u001b[1;34m(self)\u001b[0m\n\u001b[0;32m    830\u001b[0m \u001b[38;5;250m\u001b[39m\u001b[38;5;124;03m\"\"\"Constructs an op which reads the value of this variable.\u001b[39;00m\n\u001b[0;32m    831\u001b[0m \n\u001b[0;32m    832\u001b[0m \u001b[38;5;124;03mShould be used when there are multiple reads, or when it is desirable to\u001b[39;00m\n\u001b[1;32m   (...)\u001b[0m\n\u001b[0;32m    836\u001b[0m \u001b[38;5;124;03m  The value of the variable.\u001b[39;00m\n\u001b[0;32m    837\u001b[0m \u001b[38;5;124;03m\"\"\"\u001b[39;00m\n\u001b[0;32m    838\u001b[0m \u001b[38;5;28;01mwith\u001b[39;00m ops\u001b[38;5;241m.\u001b[39mname_scope(\u001b[38;5;124m\"\u001b[39m\u001b[38;5;124mRead\u001b[39m\u001b[38;5;124m\"\u001b[39m):\n\u001b[1;32m--> 839\u001b[0m   value \u001b[38;5;241m=\u001b[39m \u001b[38;5;28mself\u001b[39m\u001b[38;5;241m.\u001b[39m_read_variable_op()\n\u001b[0;32m    840\u001b[0m \u001b[38;5;66;03m# Return an identity so it can get placed on whatever device the context\u001b[39;00m\n\u001b[0;32m    841\u001b[0m \u001b[38;5;66;03m# specifies instead of the device where the variable is.\u001b[39;00m\n\u001b[0;32m    842\u001b[0m \u001b[38;5;28;01mreturn\u001b[39;00m array_ops\u001b[38;5;241m.\u001b[39midentity(value)\n",
      "File \u001b[1;32m~\\AppData\\Roaming\\Python\\Python311\\site-packages\\tensorflow\\python\\ops\\resource_variable_ops.py:818\u001b[0m, in \u001b[0;36mBaseResourceVariable._read_variable_op\u001b[1;34m(self, no_copy)\u001b[0m\n\u001b[0;32m    816\u001b[0m       result \u001b[38;5;241m=\u001b[39m read_and_set_handle(no_copy)\n\u001b[0;32m    817\u001b[0m \u001b[38;5;28;01melse\u001b[39;00m:\n\u001b[1;32m--> 818\u001b[0m   result \u001b[38;5;241m=\u001b[39m read_and_set_handle(no_copy)\n\u001b[0;32m    820\u001b[0m \u001b[38;5;28;01mif\u001b[39;00m \u001b[38;5;129;01mnot\u001b[39;00m context\u001b[38;5;241m.\u001b[39mexecuting_eagerly():\n\u001b[0;32m    821\u001b[0m   \u001b[38;5;66;03m# Note that if a control flow context is active the input of the read op\u001b[39;00m\n\u001b[0;32m    822\u001b[0m   \u001b[38;5;66;03m# might not actually be the handle. This line bypasses it.\u001b[39;00m\n\u001b[0;32m    823\u001b[0m   record\u001b[38;5;241m.\u001b[39mrecord_operation(\n\u001b[0;32m    824\u001b[0m       \u001b[38;5;124m\"\u001b[39m\u001b[38;5;124mReadVariableOp\u001b[39m\u001b[38;5;124m\"\u001b[39m, [result], [\u001b[38;5;28mself\u001b[39m\u001b[38;5;241m.\u001b[39mhandle],\n\u001b[0;32m    825\u001b[0m       backward_function\u001b[38;5;241m=\u001b[39m\u001b[38;5;28;01mlambda\u001b[39;00m x: [x],\n\u001b[0;32m    826\u001b[0m       forward_function\u001b[38;5;241m=\u001b[39m\u001b[38;5;28;01mlambda\u001b[39;00m x: [x])\n",
      "File \u001b[1;32m~\\AppData\\Roaming\\Python\\Python311\\site-packages\\tensorflow\\python\\ops\\resource_variable_ops.py:808\u001b[0m, in \u001b[0;36mBaseResourceVariable._read_variable_op.<locals>.read_and_set_handle\u001b[1;34m(no_copy)\u001b[0m\n\u001b[0;32m    806\u001b[0m \u001b[38;5;28;01mif\u001b[39;00m no_copy \u001b[38;5;129;01mand\u001b[39;00m forward_compat\u001b[38;5;241m.\u001b[39mforward_compatible(\u001b[38;5;241m2022\u001b[39m, \u001b[38;5;241m5\u001b[39m, \u001b[38;5;241m3\u001b[39m):\n\u001b[0;32m    807\u001b[0m   gen_resource_variable_ops\u001b[38;5;241m.\u001b[39mdisable_copy_on_read(\u001b[38;5;28mself\u001b[39m\u001b[38;5;241m.\u001b[39mhandle)\n\u001b[1;32m--> 808\u001b[0m result \u001b[38;5;241m=\u001b[39m gen_resource_variable_ops\u001b[38;5;241m.\u001b[39mread_variable_op(\n\u001b[0;32m    809\u001b[0m     \u001b[38;5;28mself\u001b[39m\u001b[38;5;241m.\u001b[39mhandle, \u001b[38;5;28mself\u001b[39m\u001b[38;5;241m.\u001b[39m_dtype)\n\u001b[0;32m    810\u001b[0m _maybe_set_handle_data(\u001b[38;5;28mself\u001b[39m\u001b[38;5;241m.\u001b[39m_dtype, \u001b[38;5;28mself\u001b[39m\u001b[38;5;241m.\u001b[39mhandle, result)\n\u001b[0;32m    811\u001b[0m \u001b[38;5;28;01mreturn\u001b[39;00m result\n",
      "File \u001b[1;32m~\\AppData\\Roaming\\Python\\Python311\\site-packages\\tensorflow\\python\\ops\\gen_resource_variable_ops.py:535\u001b[0m, in \u001b[0;36mread_variable_op\u001b[1;34m(resource, dtype, name)\u001b[0m\n\u001b[0;32m    533\u001b[0m \u001b[38;5;28;01mif\u001b[39;00m tld\u001b[38;5;241m.\u001b[39mis_eager:\n\u001b[0;32m    534\u001b[0m   \u001b[38;5;28;01mtry\u001b[39;00m:\n\u001b[1;32m--> 535\u001b[0m     _result \u001b[38;5;241m=\u001b[39m pywrap_tfe\u001b[38;5;241m.\u001b[39mTFE_Py_FastPathExecute(\n\u001b[0;32m    536\u001b[0m       _ctx, \u001b[38;5;124m\"\u001b[39m\u001b[38;5;124mReadVariableOp\u001b[39m\u001b[38;5;124m\"\u001b[39m, name, resource, \u001b[38;5;124m\"\u001b[39m\u001b[38;5;124mdtype\u001b[39m\u001b[38;5;124m\"\u001b[39m, dtype)\n\u001b[0;32m    537\u001b[0m     \u001b[38;5;28;01mreturn\u001b[39;00m _result\n\u001b[0;32m    538\u001b[0m   \u001b[38;5;28;01mexcept\u001b[39;00m _core\u001b[38;5;241m.\u001b[39m_NotOkStatusException \u001b[38;5;28;01mas\u001b[39;00m e:\n",
      "\u001b[1;31mKeyboardInterrupt\u001b[0m: "
     ]
    }
   ],
   "source": [
    "tb_callback1 = tf.keras.callbacks.TensorBoard(log_dir=f\"logs/B0005_ADAM_test\",histogram_freq=1)\n",
    "tb_callback2 = tf.keras.callbacks.TensorBoard(log_dir=f\"logs/B0006_ADAM_test\",histogram_freq=1)\n",
    "tb_callback3 = tf.keras.callbacks.TensorBoard(log_dir=f\"logs/B0007_ADAM_test\",histogram_freq=1)\n",
    "tb_callback4 = tf.keras.callbacks.TensorBoard(log_dir=f\"logs/B0018_ADAM_test\",histogram_freq=1)\n",
    "model0005_train.fit(X_test0005,y_test0005,epochs=20,callbacks=[tb_callback1])\n",
    "model0006_train.fit(X_test0006,y_test0006,epochs=20,callbacks=[tb_callback2])\n",
    "model0007_train.fit(X_test0007,y_test0007,epochs=20,callbacks=[tb_callback3])\n",
    "model0018_train.fit(X_test0018,y_test0018,epochs=20,callbacks=[tb_callback4])"
   ]
  }
 ],
 "metadata": {
  "kernelspec": {
   "display_name": "Python 3 (ipykernel)",
   "language": "python",
   "name": "python3"
  },
  "language_info": {
   "codemirror_mode": {
    "name": "ipython",
    "version": 3
   },
   "file_extension": ".py",
   "mimetype": "text/x-python",
   "name": "python",
   "nbconvert_exporter": "python",
   "pygments_lexer": "ipython3",
   "version": "3.11.5"
  }
 },
 "nbformat": 4,
 "nbformat_minor": 5
}
