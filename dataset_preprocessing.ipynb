{
 "cells": [
  {
   "cell_type": "code",
   "execution_count": 1,
   "id": "c8e75048",
   "metadata": {},
   "outputs": [],
   "source": [
    "import pandas as pd\n",
    "import numpy as np\n",
    "import random\n",
    "import re\n",
    "from sklearn.preprocessing import LabelEncoder"
   ]
  },
  {
   "cell_type": "code",
   "execution_count": 2,
   "id": "6b8ffa09",
   "metadata": {},
   "outputs": [],
   "source": [
    "df5 = pd.read_csv('./datasets/B0005.csv')\n",
    "df6 = pd.read_csv('./datasets/B0006.csv')\n",
    "df7 = pd.read_csv('./datasets/B0007.csv')\n",
    "df18 = pd.read_csv('./datasets/B0018.csv')"
   ]
  },
  {
   "cell_type": "code",
   "execution_count": 3,
   "id": "fc4ad6eb",
   "metadata": {},
   "outputs": [],
   "source": [
    "a_new = df5.drop(['Name','Email','Interests','datetime'],axis=1)\n",
    "b_new = df6.drop(['Name','Email','Interests','datetime'],axis=1)\n",
    "c_new = df7.drop(['Name','Email','Interests','datetime'],axis=1)\n",
    "d_new = df18.drop(['Name','Email','Interests','datetime'],axis=1)"
   ]
  },
  {
   "cell_type": "code",
   "execution_count": 4,
   "id": "bd0c3fdf",
   "metadata": {},
   "outputs": [],
   "source": [
    "def convert_string_to_numeric(a,b):\n",
    "    a['Vehicle_Number'] = a['Vehicle_Number'].apply(lambda x: (re.findall('[A-Z0-9]*\\-[A-Z0-9]*\\-[A-Z0-9]*\\-(\\d*)', x))[0])\n",
    "    a['Phone_Number'] = a['Phone_Number'].apply(lambda x: (re.findall('(\\d*)', x))[0]+(re.findall('(\\d*)', x)[2])+str(random.randint(1, 10)))\n",
    "    le = LabelEncoder()\n",
    "    columns_to_encode = ['Starting_Location', 'Destination', 'Frequent_Places']\n",
    "    for column in columns_to_encode:\n",
    "        a[column] = le.fit_transform(a[column])\n",
    "    a['Vehicle_Number'] = a['Vehicle_Number'].astype(np.int64)\n",
    "    a['Phone_Number'] = a['Phone_Number'].astype(np.int64)\n",
    "    a['capacity'] = (a['capacity']*1000000).astype(np.int64)\n",
    "    a['voltage_measured'] = (a['voltage_measured']*1000000).astype(np.int64)\n",
    "    a['current_measured'] = (a['current_measured']*1000000).astype(np.int64)\n",
    "    a['temperature_measured'] = (a['temperature_measured']*1000000).astype(np.int64)\n",
    "    a['current_load'] = (a['current_load']*10000).astype(np.int64)\n",
    "    a['voltage_load'] = (a['voltage_load']*1000).astype(np.int64)\n",
    "    a['time'] = (a['time']*1000).astype(np.int64)\n",
    "    a.to_csv(f'./preprocessed data/{b}_preprocessed.csv',index=False)"
   ]
  },
  {
   "cell_type": "code",
   "execution_count": 5,
   "id": "766e9d14",
   "metadata": {},
   "outputs": [],
   "source": [
    "convert_string_to_numeric(a_new,\"B0005\")\n",
    "convert_string_to_numeric(b_new,\"B0006\")\n",
    "convert_string_to_numeric(c_new,\"B0007\")\n",
    "convert_string_to_numeric(d_new,\"B0018\")"
   ]
  }
 ],
 "metadata": {
  "kernelspec": {
   "display_name": "Python 3 (ipykernel)",
   "language": "python",
   "name": "python3"
  },
  "language_info": {
   "codemirror_mode": {
    "name": "ipython",
    "version": 3
   },
   "file_extension": ".py",
   "mimetype": "text/x-python",
   "name": "python",
   "nbconvert_exporter": "python",
   "pygments_lexer": "ipython3",
   "version": "3.11.5"
  }
 },
 "nbformat": 4,
 "nbformat_minor": 5
}
